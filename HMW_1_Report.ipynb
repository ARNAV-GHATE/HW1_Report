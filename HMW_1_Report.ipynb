{
  "nbformat": 4,
  "nbformat_minor": 0,
  "metadata": {
    "colab": {
      "provenance": [],
      "authorship_tag": "ABX9TyPdGIL8h76JkjeMUsFVlhRO",
      "include_colab_link": true
    },
    "kernelspec": {
      "name": "python3",
      "display_name": "Python 3"
    },
    "language_info": {
      "name": "python"
    }
  },
  "cells": [
    {
      "cell_type": "markdown",
      "metadata": {
        "id": "view-in-github",
        "colab_type": "text"
      },
      "source": [
        "<a href=\"https://colab.research.google.com/github/ARNAV-GHATE/HW1_Report/blob/main/HMW_1_Report.ipynb\" target=\"_parent\"><img src=\"https://colab.research.google.com/assets/colab-badge.svg\" alt=\"Open In Colab\"/></a>"
      ]
    },
    {
      "cell_type": "code",
      "source": [
        "# Import Libraries\n",
        "import random\n",
        "import timeit\n",
        "from functools import partial\n",
        "\n",
        "# Initialize random matrices A and B\n",
        "def generate_matrix(n, m):\n",
        "    return [[random.randint(0, 10) for _ in range(m)] for _ in range(n)]\n",
        "\n",
        "A = generate_matrix(10, 10)  # Change size later (10x10, 50x50, 100x100)\n",
        "B = generate_matrix(10, 10)\n",
        "\n",
        "# Matrix multiplication with for loop\n",
        "def matmul(A, B):\n",
        "    n = len(A)\n",
        "    m = len(B[0])\n",
        "    p = len(B)\n",
        "    result = [[0 for _ in range(m)] for _ in range(n)]\n",
        "    for i in range(n):\n",
        "        for j in range(m):\n",
        "            for k in range(p):\n",
        "                result[i][j] += A[i][k] * B[k][j]\n",
        "    return result\n",
        "\n",
        "# Call matmul\n",
        "result = matmul(A, B)\n",
        "\n",
        "# Time the execution\n",
        "matmul_time = timeit.timeit(partial(matmul, A, B), number=1)\n",
        "print(\"Execution Time:\", matmul_time, \"seconds\")\n"
      ],
      "metadata": {
        "id": "7zO2_yQmfUmO"
      },
      "execution_count": null,
      "outputs": []
    }
  ]
}