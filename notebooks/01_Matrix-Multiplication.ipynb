{
  "cells": [
    {
      "cell_type": "markdown",
      "metadata": {
        "id": "tj3gLqCkzBWr"
      },
      "source": [
        "# Quick Maths with Matrices!\n",
        "---"
      ]
    },
    {
      "cell_type": "markdown",
      "metadata": {
        "toc": true,
        "id": "ncbR5mUQzBWs"
      },
      "source": [
        "<h1>Table of Contents<span class=\"tocSkip\"></span></h1>\n",
        "<div class=\"toc\"><ul class=\"toc-item\"><li><span><a href=\"#Quick-Maths-with-Matrices!\" data-toc-modified-id=\"Quick-Maths-with-Matrices!-1\"><span class=\"toc-item-num\">1&nbsp;&nbsp;</span>Quick Maths with Matrices!</a></span><ul class=\"toc-item\"><li><span><a href=\"#Import-Libraries\" data-toc-modified-id=\"Import-Libraries-1.1\"><span class=\"toc-item-num\">1.1&nbsp;&nbsp;</span>Import Libraries</a></span></li><li><span><a href=\"#Test-Framework\" data-toc-modified-id=\"Test-Framework-1.2\"><span class=\"toc-item-num\">1.2&nbsp;&nbsp;</span>Test Framework</a></span></li></ul></li><li><span><a href=\"#Optimizing-Matrix-Multiplications\" data-toc-modified-id=\"Optimizing-Matrix-Multiplications-2\"><span class=\"toc-item-num\">2&nbsp;&nbsp;</span>Optimizing Matrix Multiplications</a></span><ul class=\"toc-item\"><li><span><a href=\"#For-Loop\" data-toc-modified-id=\"For-Loop-2.1\"><span class=\"toc-item-num\">2.1&nbsp;&nbsp;</span>For Loop</a></span></li><li><span><a </span>\n",
        "2.2&nbsp;&nbsp;</span>Add Timing Code</a></span></li><li><span>\n",
        "</li></ul></li></ul></div>"
      ]
    },
    {
      "cell_type": "markdown",
      "metadata": {
        "id": "NopzMgNxzBWt"
      },
      "source": [
        "## Import Libraries"
      ]
    },
    {
      "cell_type": "code",
      "execution_count": 27,
      "metadata": {
        "id": "SrGE3fuszBWt"
      },
      "outputs": [],
      "source": [
        "import torch\n",
        "import timeit\n",
        "import operator\n",
        "from functools import partial"
      ]
    },
    {
      "cell_type": "markdown",
      "metadata": {
        "id": "lsjyU0rdzBWu"
      },
      "source": [
        "## Test Framework"
      ]
    },
    {
      "cell_type": "code",
      "execution_count": 28,
      "metadata": {
        "id": "zxObiq_UzBWu"
      },
      "outputs": [],
      "source": [
        "def test(a, b, compare, compare_name=None):\n",
        "    if compare_name is None:\n",
        "        compare_name = compare.__name__\n",
        "    assert compare(a, b),\\\n",
        "    f\"{compare_name} check failed:\\n{a}\\n{b}\"\n",
        "\n",
        "def test_equality(a, b):\n",
        "    test(a, b, operator.eq, \"Equality\")\n",
        "\n",
        "def test_approximately(a, b):\n",
        "    allclose = partial(torch.allclose, atol=1e-5, rtol=1e-03)\n",
        "    if not isinstance(a, torch.Tensor) or not isinstance(b, torch.Tensor):\n",
        "        a = torch.tensor(a)\n",
        "        b = torch.tensor(b)\n",
        "    test(a, b, allclose, \"Approximate Equality\")"
      ]
    },
    {
      "cell_type": "code",
      "execution_count": 29,
      "metadata": {
        "id": "xzuWOTmnzBWu"
      },
      "outputs": [],
      "source": [
        "test_equality(1e-5,1e-5)"
      ]
    },
    {
      "cell_type": "code",
      "execution_count": 30,
      "metadata": {
        "id": "jKdP1qhGzBWu"
      },
      "outputs": [],
      "source": [
        "test_approximately(1e-5, 1e-6)"
      ]
    },
    {
      "cell_type": "markdown",
      "metadata": {
        "id": "qk1v7PWlzBWu"
      },
      "source": [
        "# Optimizing Matrix Multiplications"
      ]
    },
    {
      "cell_type": "markdown",
      "metadata": {
        "id": "qUL64pmGzBWv"
      },
      "source": [
        "**Toy Variables**"
      ]
    },
    {
      "cell_type": "code",
      "execution_count": 31,
      "metadata": {
        "id": "wubX3jtizBWv"
      },
      "outputs": [],
      "source": [
        "a = torch.tensor([[1.,2.,1.],\n",
        "                  [2.,3.,2.],\n",
        "                  [3.,1.,3.]])\n",
        "\n",
        "b = torch.tensor([[1., 2.],\n",
        "                  [2., 1.],\n",
        "                  [1., 2.]])"
      ]
    },
    {
      "cell_type": "code",
      "execution_count": 32,
      "metadata": {
        "colab": {
          "base_uri": "https://localhost:8080/"
        },
        "id": "GZD4AnkSzBWv",
        "outputId": "ba7072b5-1620-430d-c0a2-e7caa04e6994"
      },
      "outputs": [
        {
          "output_type": "execute_result",
          "data": {
            "text/plain": [
              "tensor([[ 6.,  6.],\n",
              "        [10., 11.],\n",
              "        [ 8., 13.]])"
            ]
          },
          "metadata": {},
          "execution_count": 32
        }
      ],
      "source": [
        "a@b"
      ]
    },
    {
      "cell_type": "markdown",
      "metadata": {
        "id": "pBzkSl7YzBWv"
      },
      "source": [
        "**Test Variables**"
      ]
    },
    {
      "cell_type": "code",
      "execution_count": null,
      "metadata": {
        "id": "tSeF_3YYzBWv"
      },
      "outputs": [],
      "source": [
        "A = torch.randn([100,100])\n",
        "B = torch.randn([100,100])"
      ]
    },
    {
      "cell_type": "code",
      "execution_count": 34,
      "metadata": {
        "colab": {
          "base_uri": "https://localhost:8080/"
        },
        "id": "hUrGX8z8zBWv",
        "outputId": "c6d8491d-5ff9-4c2d-9538-961b0f0bf0c9"
      },
      "outputs": [
        {
          "output_type": "execute_result",
          "data": {
            "text/plain": [
              "torch.Size([100, 100])"
            ]
          },
          "metadata": {},
          "execution_count": 34
        }
      ],
      "source": [
        "(A@B).shape"
      ]
    },
    {
      "cell_type": "markdown",
      "metadata": {
        "id": "E8PQ_RflzBWw"
      },
      "source": [
        "## For Loop"
      ]
    },
    {
      "cell_type": "code",
      "execution_count": 35,
      "metadata": {
        "colab": {
          "base_uri": "https://localhost:8080/"
        },
        "id": "P3ArLwhpzBWw",
        "outputId": "3e8dd3c9-cb23-4cf0-f7a2-3bae7bfd2107"
      },
      "outputs": [
        {
          "output_type": "stream",
          "name": "stdout",
          "text": [
            "Multiplication time: 18.51924975199995 seconds\n"
          ]
        }
      ],
      "source": [
        "def matmul(A,B):\n",
        "    A_rows, A_cols = A.shape\n",
        "    B_rows, B_cols = B.shape\n",
        "    assert A_cols==B_rows,\\\n",
        "    f\"Inner dimensions must match: {A_cols} not equal to {B_rows}\"\n",
        "    C = torch.zeros([A_rows, B_cols])\n",
        "    for i in range(A_rows):\n",
        "        for j in range(B_cols):\n",
        "            for k in range(A_cols):\n",
        "                C[i,j] += A[i,k] * B[k,j]\n",
        "    return C\n"
      ]
    },
    {
      "cell_type": "code",
      "execution_count": 36,
      "metadata": {
        "colab": {
          "base_uri": "https://localhost:8080/"
        },
        "id": "bEeG_sYEzBWw",
        "outputId": "82eb99c6-b57e-427c-81df-6cb174cc6ce6"
      },
      "outputs": [
        {
          "output_type": "execute_result",
          "data": {
            "text/plain": [
              "tensor([[ 6.,  6.],\n",
              "        [10., 11.],\n",
              "        [ 8., 13.]])"
            ]
          },
          "metadata": {},
          "execution_count": 36
        }
      ],
      "source": [
        "matmul(a,b)"
      ]
    },
    {
      "cell_type": "code",
      "execution_count": 37,
      "metadata": {
        "id": "Rosj8k7jzBWw"
      },
      "outputs": [],
      "source": [
        "test_approximately(matmul(A, B), (A@B))"
      ]
    },
    {
      "cell_type": "code",
      "execution_count": 38,
      "metadata": {
        "colab": {
          "base_uri": "https://localhost:8080/"
        },
        "id": "ra3rQo4_zBWw",
        "outputId": "b3616e3c-1e64-4fd2-d860-d1c71a63471d"
      },
      "outputs": [
        {
          "output_type": "execute_result",
          "data": {
            "text/plain": [
              "180.97321678900005"
            ]
          },
          "metadata": {},
          "execution_count": 38
        }
      ],
      "source": [
        "matmul_loop_time = timeit.timeit(partial(matmul,A,B), number=10)\n",
        "matmul_loop_time"
      ]
    },
    {
      "cell_type": "code",
      "source": [
        "import timeit\n",
        "from functools import partial\n",
        "\n",
        "matmul_time = timeit.timeit(partial(matmul, A, B), number=1)\n",
        "print(\"Multiplication time:\", matmul_time, \"seconds\")\n"
      ],
      "metadata": {
        "colab": {
          "base_uri": "https://localhost:8080/"
        },
        "id": "mJOZYLFE0HNx",
        "outputId": "4859d4db-e3a2-4a85-ef04-332a8bc91dd6"
      },
      "execution_count": 39,
      "outputs": [
        {
          "output_type": "stream",
          "name": "stdout",
          "text": [
            "Multiplication time: 18.165628547000097 seconds\n"
          ]
        }
      ]
    },
    {
      "cell_type": "code",
      "source": [
        "# Import Libraries\n",
        "import random\n",
        "import timeit\n",
        "from functools import partial\n",
        "\n",
        "# Initialize random matrices A and B\n",
        "def generate_matrix(n, m):\n",
        "    return [[random.randint(0, 10) for _ in range(m)] for _ in range(n)]\n",
        "\n",
        "A = generate_matrix(10, 10)  # Change size later (10x10, 50x50, 100x100)\n",
        "B = generate_matrix(10, 10)\n",
        "\n",
        "# Matrix multiplication with for loop\n",
        "def matmul(A, B):\n",
        "    n = len(A)\n",
        "    m = len(B[0])\n",
        "    p = len(B)\n",
        "    result = [[0 for _ in range(m)] for _ in range(n)]\n",
        "    for i in range(n):\n",
        "        for j in range(m):\n",
        "            for k in range(p):\n",
        "                result[i][j] += A[i][k] * B[k][j]\n",
        "    return result\n",
        "\n",
        "# Call matmul\n",
        "result = matmul(A, B)\n",
        "\n",
        "# Time the execution\n",
        "matmul_time = timeit.timeit(partial(matmul, A, B), number=1)\n",
        "print(\"Execution Time:\", matmul_time, \"seconds\")\n",
        "\n"
      ],
      "metadata": {
        "colab": {
          "base_uri": "https://localhost:8080/"
        },
        "id": "Dff0ujc6Xo0Q",
        "outputId": "a6fad786-b284-4bb3-d458-e351032181c9"
      },
      "execution_count": 6,
      "outputs": [
        {
          "output_type": "stream",
          "name": "stdout",
          "text": [
            "Execution Time: 7.802099980835919e-05 seconds\n"
          ]
        }
      ]
    }
  ],
  "metadata": {
    "kernelspec": {
      "display_name": "Python 3",
      "name": "python3"
    },
    "language_info": {
      "codemirror_mode": {
        "name": "ipython",
        "version": 3
      },
      "file_extension": ".py",
      "mimetype": "text/x-python",
      "name": "python",
      "nbconvert_exporter": "python",
      "pygments_lexer": "ipython3",
      "version": "3.7.5"
    },
    "toc": {
      "base_numbering": 1,
      "nav_menu": {},
      "number_sections": true,
      "sideBar": true,
      "skip_h1_title": false,
      "title_cell": "Table of Contents",
      "title_sidebar": "Contents",
      "toc_cell": true,
      "toc_position": {
        "height": "calc(100% - 180px)",
        "left": "10px",
        "top": "150px",
        "width": "242.067px"
      },
      "toc_section_display": true,
      "toc_window_display": true
    },
    "colab": {
      "provenance": [],
      "gpuType": "V28"
    },
    "accelerator": "TPU"
  },
  "nbformat": 4,
  "nbformat_minor": 0
}